{
 "cells": [
  {
   "cell_type": "code",
   "execution_count": null,
   "metadata": {},
   "outputs": [],
   "source": [
    "import torch\n",
    "from torch import nn\n",
    "from torch.nn import functional as F\n",
    "\n",
    "torch.manual_seed(1337)\n",
    "B,T,C = 4, 8, 2 # Batch size, sequence length, and number of channels\n",
    "x = torch.randn(B, T, C)"
   ]
  },
  {
   "cell_type": "code",
   "execution_count": 2,
   "metadata": {},
   "outputs": [
    {
     "data": {
      "text/plain": [
       "<torch.autograd.grad_mode.no_grad at 0x11c954f20>"
      ]
     },
     "execution_count": 2,
     "metadata": {},
     "output_type": "execute_result"
    }
   ],
   "source": [
    "torch.no_grad()"
   ]
  },
  {
   "cell_type": "code",
   "execution_count": 3,
   "metadata": {},
   "outputs": [
    {
     "name": "stdout",
     "output_type": "stream",
     "text": [
      "tensor([[1.0000, 0.0000, 0.0000],\n",
      "        [0.5000, 0.5000, 0.0000],\n",
      "        [0.3333, 0.3333, 0.3333]])\n",
      "tensor([[2., 7.],\n",
      "        [6., 4.],\n",
      "        [6., 5.]])\n",
      "tensor([[2.0000, 7.0000],\n",
      "        [4.0000, 5.5000],\n",
      "        [4.6667, 5.3333]])\n"
     ]
    }
   ],
   "source": [
    "torch.manual_seed(42)\n",
    "\n",
    "# the mat mul operation\n",
    "a = torch.tril(torch.ones(3, 3))\n",
    "a = a / torch.sum(a, dim=1, keepdim=True)\n",
    "b = torch.randint(0, 10, (3, 2)).float()\n",
    "\n",
    "# rows times columns\n",
    "c = a @ b\n",
    "\n",
    "print (a)\n",
    "print (b)\n",
    "print (c)"
   ]
  },
  {
   "cell_type": "code",
   "execution_count": 4,
   "metadata": {},
   "outputs": [],
   "source": [
    "weights = torch.tril(torch.ones(T, T))\n",
    "weights = weights / weights.sum(1, keepdim=True)\n",
    "\n",
    "xbow2 = weights @ x # (T, T) @ (B, T, C) -> (B, T, C)"
   ]
  },
  {
   "cell_type": "code",
   "execution_count": 5,
   "metadata": {},
   "outputs": [
    {
     "data": {
      "text/plain": [
       "tensor([[[ 0.1808, -0.0700],\n",
       "         [-0.0894, -0.4926],\n",
       "         [ 0.1490, -0.3199],\n",
       "         [ 0.3504, -0.2238],\n",
       "         [ 0.3525,  0.0545],\n",
       "         [ 0.0688, -0.0396],\n",
       "         [ 0.0927, -0.0682],\n",
       "         [-0.0341,  0.1332]],\n",
       "\n",
       "        [[ 1.3488, -0.1396],\n",
       "         [ 0.8173,  0.4127],\n",
       "         [-0.1342,  0.4395],\n",
       "         [ 0.2711,  0.4774],\n",
       "         [ 0.2421,  0.0694],\n",
       "         [ 0.0084,  0.0020],\n",
       "         [ 0.0712, -0.1128],\n",
       "         [ 0.2527,  0.2149]],\n",
       "\n",
       "        [[-0.6631, -0.2513],\n",
       "         [ 0.1735, -0.0649],\n",
       "         [ 0.1685,  0.3348],\n",
       "         [-0.1621,  0.1765],\n",
       "         [-0.2312, -0.0436],\n",
       "         [-0.1015, -0.2855],\n",
       "         [-0.2593, -0.1630],\n",
       "         [-0.3015, -0.2293]],\n",
       "\n",
       "        [[ 1.6455, -0.8030],\n",
       "         [ 1.4985, -0.5395],\n",
       "         [ 0.4954,  0.3420],\n",
       "         [ 1.0623, -0.1802],\n",
       "         [ 1.1401, -0.4462],\n",
       "         [ 1.0870, -0.4071],\n",
       "         [ 1.0430, -0.1299],\n",
       "         [ 1.1138, -0.1641]]])"
      ]
     },
     "execution_count": 5,
     "metadata": {},
     "output_type": "execute_result"
    }
   ],
   "source": [
    "xbow2"
   ]
  },
  {
   "cell_type": "markdown",
   "metadata": {},
   "source": [
    "## timestamp\n",
    "\n",
    "https://youtu.be/kCc8FmEb1nY?si=pq2FmeBHG37mZymE&t=3282\n"
   ]
  },
  {
   "cell_type": "code",
   "execution_count": 8,
   "metadata": {},
   "outputs": [
    {
     "data": {
      "text/plain": [
       "tensor([[1., 0., 0., 0., 0., 0., 0., 0.],\n",
       "        [1., 1., 0., 0., 0., 0., 0., 0.],\n",
       "        [1., 1., 1., 0., 0., 0., 0., 0.],\n",
       "        [1., 1., 1., 1., 0., 0., 0., 0.],\n",
       "        [1., 1., 1., 1., 1., 0., 0., 0.],\n",
       "        [1., 1., 1., 1., 1., 1., 0., 0.],\n",
       "        [1., 1., 1., 1., 1., 1., 1., 0.],\n",
       "        [1., 1., 1., 1., 1., 1., 1., 1.]])"
      ]
     },
     "execution_count": 8,
     "metadata": {},
     "output_type": "execute_result"
    }
   ],
   "source": [
    "torch.tril(torch.ones(T, T))"
   ]
  },
  {
   "cell_type": "code",
   "execution_count": null,
   "metadata": {},
   "outputs": [
    {
     "data": {
      "text/plain": [
       "True"
      ]
     },
     "execution_count": 19,
     "metadata": {},
     "output_type": "execute_result"
    }
   ],
   "source": [
    "import torch.nn.functional as F\n",
    "\n",
    "# version 3: uses softmax for normalization\n",
    "tril = torch.tril(torch.ones(T, T))\n",
    "weights = torch.zeros(T, T)\n",
    "\n",
    "# with the next operation we set the upper triangular part to -inf\n",
    "weights = weights.masked_fill(tril == 0, float('-inf'))  # set upper triangular to -inf\n",
    "weights = F.softmax(weights, dim=-1)  # apply softmax to normalize\n",
    "\n",
    "#the -inf is to ensure tokens from the past dont comunicati with tokens from the future\n",
    "xbow3 = weights @ x  # (T, T) @ (B, T, C) -> (B, T, C)\n",
    "torch.allclose(xbow2, xbow3)  # should be True, both methods yield the same result"
   ]
  },
  {
   "cell_type": "code",
   "execution_count": 18,
   "metadata": {},
   "outputs": [
    {
     "data": {
      "text/plain": [
       "tensor([[1.0000, 0.0000, 0.0000, 0.0000, 0.0000, 0.0000, 0.0000, 0.0000],\n",
       "        [0.5000, 0.5000, 0.0000, 0.0000, 0.0000, 0.0000, 0.0000, 0.0000],\n",
       "        [0.3333, 0.3333, 0.3333, 0.0000, 0.0000, 0.0000, 0.0000, 0.0000],\n",
       "        [0.2500, 0.2500, 0.2500, 0.2500, 0.0000, 0.0000, 0.0000, 0.0000],\n",
       "        [0.2000, 0.2000, 0.2000, 0.2000, 0.2000, 0.0000, 0.0000, 0.0000],\n",
       "        [0.1667, 0.1667, 0.1667, 0.1667, 0.1667, 0.1667, 0.0000, 0.0000],\n",
       "        [0.1429, 0.1429, 0.1429, 0.1429, 0.1429, 0.1429, 0.1429, 0.0000],\n",
       "        [0.1250, 0.1250, 0.1250, 0.1250, 0.1250, 0.1250, 0.1250, 0.1250]])"
      ]
     },
     "execution_count": 18,
     "metadata": {},
     "output_type": "execute_result"
    }
   ],
   "source": [
    "weights"
   ]
  },
  {
   "cell_type": "code",
   "execution_count": 34,
   "metadata": {},
   "outputs": [],
   "source": [
    "# self-attention\n",
    "torch.manual_seed(1337)\n",
    "B, T, C = 4, 8, 32 # batch size, time steps, channels\n",
    "x = torch.randn(B, T, C)\n",
    "\n",
    "head_size = 16\n",
    "key = nn.Linear(C, head_size, bias=False)\n",
    "query = nn.Linear(C, head_size, bias=False)\n",
    "value = nn.Linear(C, head_size, bias=False)\n",
    "k = key(x)   # (B,T,16)\n",
    "q = query(x) # (B,T,16)\n",
    "wei = q @ k.transpose(-2, -1) # (B,T,16) * (B,16,T) -> (B,T,T)\n",
    "\n",
    "tril = torch.tril(torch.ones(T, T)) # (T,T) # don't consider future tokens\n",
    "wei = wei.masked_fill(tril == 0, float('-inf')) # (B,T,T) # set 0 to -inf for softmax\n",
    "wei = F.softmax(wei, dim=-1) # (B,T,T) # apply softmax to sum to 1\n",
    "\n",
    "v = value(x)    # (B,T,16)\n",
    "output = wei @ v # (B,T,T) @ (B,T,16) -> (B,T,16) # attention output for each token in the sequence"
   ]
  },
  {
   "cell_type": "code",
   "execution_count": null,
   "metadata": {},
   "outputs": [],
   "source": [
    "# Andrej Karpathy explanation\n",
    "# for a token, my information is kept in vector x\n",
    "# query, here is what I'm interested in\n",
    "# key, here is what I have\n",
    "# If you find me interesting, here is what I will communicate.\n",
    "\n",
    "# by default, these nodes (tokens) have no way of knowing where the are in the sequence\n",
    "# we can add positional encodings to the token embeddings to give them a sense of order\n",
    "\n",
    "# for encoder attentionk, the masked_prefil is not needed, because all tokens can attend to each other\n",
    "\n",
    "\n",
    "# self attention from vs cross-attention\n",
    "# In this case, it is self attention, because the output of the attention mechanism moves the embedding vector of the token itself based on interaction with the other tokens in the sequence\n",
    "# k, q, v are all derived from the same source, the token embeddings of the sequence itself\n",
    "\n",
    "# in cross-attention, the k and v are derived from a different source than the q\n",
    "# for example, in a language model, the k and v are derived from the token embeddings of the sequence itself, but the q is derived from the token embeddings of the sequence itself"
   ]
  },
  {
   "cell_type": "code",
   "execution_count": null,
   "metadata": {},
   "outputs": [
    {
     "name": "stdout",
     "output_type": "stream",
     "text": [
      "tensor(1.0010) tensor(1.0562) tensor(17.5985)\n",
      "tensor(1.0999)\n"
     ]
    },
    {
     "data": {
      "text/plain": [
       "tensor([0.0326, 0.0030, 0.1615, 0.0030, 0.8000])"
      ]
     },
     "execution_count": 57,
     "metadata": {},
     "output_type": "execute_result"
    }
   ],
   "source": [
    "# from attention is all you need paper (2017)\n",
    "\n",
    "# we only need to add the division by sqrt(head_size) when calculating the attention weights,\n",
    "\n",
    "# why do we do this:\n",
    "# to prevent the dot products from growing too large in magnitude\n",
    "# its called \"scaled dot-product attention\"\n",
    "\n",
    "k = torch.randn(B, T, head_size)\n",
    "q = torch.randn(B, T, head_size)\n",
    "wei = q @ k.transpose(-2, -1) # * head_size**-0.5 # (B,T,16) * (B,16,T) -> (B,T,T)\n",
    "\n",
    "print(k.var(), q.var(), wei.var())\n",
    "# variance of wei is in the order of head_size\n",
    "\n",
    "# but if we scale it down by sqrt(head_size)\n",
    "wei = wei * head_size**-0.5\n",
    "print(wei.var())\n",
    "\n",
    "# wei feeds into softmax, and softmax is sensitive to large input values\n",
    "# this means softmax results in one-hot like vectors, which is not what we want\n",
    "\n",
    "# normally distributed inputs to softmax\n",
    "torch.softmax(torch.tensor([0.1, -0.2, 0.3, -0.2, 0.5]), dim=-1)\n",
    "\n",
    "# sharpen towards the max\n",
    "torch.softmax(torch.tensor([0.1, -0.2, 0.3, -0.2, 0.5]) * 8, dim=-1)\n",
    "\n",
    "# so we scale it down by sqrt(head_size) to prevent the dot products from growing too large in magnitude"
   ]
  },
  {
   "cell_type": "code",
   "execution_count": 3,
   "metadata": {},
   "outputs": [
    {
     "name": "stdout",
     "output_type": "stream",
     "text": [
      "wte.weight torch.Size([50257, 768])\n",
      "wpe.weight torch.Size([1024, 768])\n",
      "h.0.ln_1.weight torch.Size([768])\n",
      "h.0.ln_1.bias torch.Size([768])\n",
      "h.0.attn.c_attn.weight torch.Size([768, 2304])\n",
      "h.0.attn.c_attn.bias torch.Size([2304])\n",
      "h.0.attn.c_proj.weight torch.Size([768, 768])\n",
      "h.0.attn.c_proj.bias torch.Size([768])\n",
      "h.0.ln_2.weight torch.Size([768])\n",
      "h.0.ln_2.bias torch.Size([768])\n",
      "h.0.mlp.c_fc.weight torch.Size([768, 3072])\n",
      "h.0.mlp.c_fc.bias torch.Size([3072])\n",
      "h.0.mlp.c_proj.weight torch.Size([3072, 768])\n",
      "h.0.mlp.c_proj.bias torch.Size([768])\n",
      "h.1.ln_1.weight torch.Size([768])\n",
      "h.1.ln_1.bias torch.Size([768])\n",
      "h.1.attn.c_attn.weight torch.Size([768, 2304])\n",
      "h.1.attn.c_attn.bias torch.Size([2304])\n",
      "h.1.attn.c_proj.weight torch.Size([768, 768])\n",
      "h.1.attn.c_proj.bias torch.Size([768])\n",
      "h.1.ln_2.weight torch.Size([768])\n",
      "h.1.ln_2.bias torch.Size([768])\n",
      "h.1.mlp.c_fc.weight torch.Size([768, 3072])\n",
      "h.1.mlp.c_fc.bias torch.Size([3072])\n",
      "h.1.mlp.c_proj.weight torch.Size([3072, 768])\n",
      "h.1.mlp.c_proj.bias torch.Size([768])\n",
      "h.2.ln_1.weight torch.Size([768])\n",
      "h.2.ln_1.bias torch.Size([768])\n",
      "h.2.attn.c_attn.weight torch.Size([768, 2304])\n",
      "h.2.attn.c_attn.bias torch.Size([2304])\n",
      "h.2.attn.c_proj.weight torch.Size([768, 768])\n",
      "h.2.attn.c_proj.bias torch.Size([768])\n",
      "h.2.ln_2.weight torch.Size([768])\n",
      "h.2.ln_2.bias torch.Size([768])\n",
      "h.2.mlp.c_fc.weight torch.Size([768, 3072])\n",
      "h.2.mlp.c_fc.bias torch.Size([3072])\n",
      "h.2.mlp.c_proj.weight torch.Size([3072, 768])\n",
      "h.2.mlp.c_proj.bias torch.Size([768])\n",
      "h.3.ln_1.weight torch.Size([768])\n",
      "h.3.ln_1.bias torch.Size([768])\n",
      "h.3.attn.c_attn.weight torch.Size([768, 2304])\n",
      "h.3.attn.c_attn.bias torch.Size([2304])\n",
      "h.3.attn.c_proj.weight torch.Size([768, 768])\n",
      "h.3.attn.c_proj.bias torch.Size([768])\n",
      "h.3.ln_2.weight torch.Size([768])\n",
      "h.3.ln_2.bias torch.Size([768])\n",
      "h.3.mlp.c_fc.weight torch.Size([768, 3072])\n",
      "h.3.mlp.c_fc.bias torch.Size([3072])\n",
      "h.3.mlp.c_proj.weight torch.Size([3072, 768])\n",
      "h.3.mlp.c_proj.bias torch.Size([768])\n",
      "h.4.ln_1.weight torch.Size([768])\n",
      "h.4.ln_1.bias torch.Size([768])\n",
      "h.4.attn.c_attn.weight torch.Size([768, 2304])\n",
      "h.4.attn.c_attn.bias torch.Size([2304])\n",
      "h.4.attn.c_proj.weight torch.Size([768, 768])\n",
      "h.4.attn.c_proj.bias torch.Size([768])\n",
      "h.4.ln_2.weight torch.Size([768])\n",
      "h.4.ln_2.bias torch.Size([768])\n",
      "h.4.mlp.c_fc.weight torch.Size([768, 3072])\n",
      "h.4.mlp.c_fc.bias torch.Size([3072])\n",
      "h.4.mlp.c_proj.weight torch.Size([3072, 768])\n",
      "h.4.mlp.c_proj.bias torch.Size([768])\n",
      "h.5.ln_1.weight torch.Size([768])\n",
      "h.5.ln_1.bias torch.Size([768])\n",
      "h.5.attn.c_attn.weight torch.Size([768, 2304])\n",
      "h.5.attn.c_attn.bias torch.Size([2304])\n",
      "h.5.attn.c_proj.weight torch.Size([768, 768])\n",
      "h.5.attn.c_proj.bias torch.Size([768])\n",
      "h.5.ln_2.weight torch.Size([768])\n",
      "h.5.ln_2.bias torch.Size([768])\n",
      "h.5.mlp.c_fc.weight torch.Size([768, 3072])\n",
      "h.5.mlp.c_fc.bias torch.Size([3072])\n",
      "h.5.mlp.c_proj.weight torch.Size([3072, 768])\n",
      "h.5.mlp.c_proj.bias torch.Size([768])\n",
      "h.6.ln_1.weight torch.Size([768])\n",
      "h.6.ln_1.bias torch.Size([768])\n",
      "h.6.attn.c_attn.weight torch.Size([768, 2304])\n",
      "h.6.attn.c_attn.bias torch.Size([2304])\n",
      "h.6.attn.c_proj.weight torch.Size([768, 768])\n",
      "h.6.attn.c_proj.bias torch.Size([768])\n",
      "h.6.ln_2.weight torch.Size([768])\n",
      "h.6.ln_2.bias torch.Size([768])\n",
      "h.6.mlp.c_fc.weight torch.Size([768, 3072])\n",
      "h.6.mlp.c_fc.bias torch.Size([3072])\n",
      "h.6.mlp.c_proj.weight torch.Size([3072, 768])\n",
      "h.6.mlp.c_proj.bias torch.Size([768])\n",
      "h.7.ln_1.weight torch.Size([768])\n",
      "h.7.ln_1.bias torch.Size([768])\n",
      "h.7.attn.c_attn.weight torch.Size([768, 2304])\n",
      "h.7.attn.c_attn.bias torch.Size([2304])\n",
      "h.7.attn.c_proj.weight torch.Size([768, 768])\n",
      "h.7.attn.c_proj.bias torch.Size([768])\n",
      "h.7.ln_2.weight torch.Size([768])\n",
      "h.7.ln_2.bias torch.Size([768])\n",
      "h.7.mlp.c_fc.weight torch.Size([768, 3072])\n",
      "h.7.mlp.c_fc.bias torch.Size([3072])\n",
      "h.7.mlp.c_proj.weight torch.Size([3072, 768])\n",
      "h.7.mlp.c_proj.bias torch.Size([768])\n",
      "h.8.ln_1.weight torch.Size([768])\n",
      "h.8.ln_1.bias torch.Size([768])\n",
      "h.8.attn.c_attn.weight torch.Size([768, 2304])\n",
      "h.8.attn.c_attn.bias torch.Size([2304])\n",
      "h.8.attn.c_proj.weight torch.Size([768, 768])\n",
      "h.8.attn.c_proj.bias torch.Size([768])\n",
      "h.8.ln_2.weight torch.Size([768])\n",
      "h.8.ln_2.bias torch.Size([768])\n",
      "h.8.mlp.c_fc.weight torch.Size([768, 3072])\n",
      "h.8.mlp.c_fc.bias torch.Size([3072])\n",
      "h.8.mlp.c_proj.weight torch.Size([3072, 768])\n",
      "h.8.mlp.c_proj.bias torch.Size([768])\n",
      "h.9.ln_1.weight torch.Size([768])\n",
      "h.9.ln_1.bias torch.Size([768])\n",
      "h.9.attn.c_attn.weight torch.Size([768, 2304])\n",
      "h.9.attn.c_attn.bias torch.Size([2304])\n",
      "h.9.attn.c_proj.weight torch.Size([768, 768])\n",
      "h.9.attn.c_proj.bias torch.Size([768])\n",
      "h.9.ln_2.weight torch.Size([768])\n",
      "h.9.ln_2.bias torch.Size([768])\n",
      "h.9.mlp.c_fc.weight torch.Size([768, 3072])\n",
      "h.9.mlp.c_fc.bias torch.Size([3072])\n",
      "h.9.mlp.c_proj.weight torch.Size([3072, 768])\n",
      "h.9.mlp.c_proj.bias torch.Size([768])\n",
      "h.10.ln_1.weight torch.Size([768])\n",
      "h.10.ln_1.bias torch.Size([768])\n",
      "h.10.attn.c_attn.weight torch.Size([768, 2304])\n",
      "h.10.attn.c_attn.bias torch.Size([2304])\n",
      "h.10.attn.c_proj.weight torch.Size([768, 768])\n",
      "h.10.attn.c_proj.bias torch.Size([768])\n",
      "h.10.ln_2.weight torch.Size([768])\n",
      "h.10.ln_2.bias torch.Size([768])\n",
      "h.10.mlp.c_fc.weight torch.Size([768, 3072])\n",
      "h.10.mlp.c_fc.bias torch.Size([3072])\n",
      "h.10.mlp.c_proj.weight torch.Size([3072, 768])\n",
      "h.10.mlp.c_proj.bias torch.Size([768])\n",
      "h.11.ln_1.weight torch.Size([768])\n",
      "h.11.ln_1.bias torch.Size([768])\n",
      "h.11.attn.c_attn.weight torch.Size([768, 2304])\n",
      "h.11.attn.c_attn.bias torch.Size([2304])\n",
      "h.11.attn.c_proj.weight torch.Size([768, 768])\n",
      "h.11.attn.c_proj.bias torch.Size([768])\n",
      "h.11.ln_2.weight torch.Size([768])\n",
      "h.11.ln_2.bias torch.Size([768])\n",
      "h.11.mlp.c_fc.weight torch.Size([768, 3072])\n",
      "h.11.mlp.c_fc.bias torch.Size([3072])\n",
      "h.11.mlp.c_proj.weight torch.Size([3072, 768])\n",
      "h.11.mlp.c_proj.bias torch.Size([768])\n",
      "ln_f.weight torch.Size([768])\n",
      "ln_f.bias torch.Size([768])\n"
     ]
    }
   ],
   "source": [
    "from transformers import GPT2Model\n",
    "\n",
    "model = GPT2Model.from_pretrained(\"gpt2\")\n",
    "sd_hf = model.state_dict()\n",
    "\n",
    "for k, v in sd_hf.items():\n",
    "    print(k, v.shape)"
   ]
  },
  {
   "cell_type": "code",
   "execution_count": 19,
   "metadata": {},
   "outputs": [
    {
     "data": {
      "text/plain": [
       "1024.0"
      ]
     },
     "execution_count": 19,
     "metadata": {},
     "output_type": "execute_result"
    }
   ],
   "source": [
    "#wte = word token embeddings\n",
    "#wpe = word positional embeddings\n",
    "\n",
    "sd_hf[\"wpe.weight\"].view(-1).shape\n",
    "\n",
    "786432 / 768\n",
    "#wpe.weight torch.Size([1024, 768])"
   ]
  },
  {
   "cell_type": "code",
   "execution_count": 23,
   "metadata": {},
   "outputs": [
    {
     "data": {
      "text/plain": [
       "<matplotlib.image.AxesImage at 0x162fb7fe0>"
      ]
     },
     "execution_count": 23,
     "metadata": {},
     "output_type": "execute_result"
    },
    {
     "data": {
      "image/png": "[encoded data removed]",
      "text/plain": [
       "<Figure size 640x480 with 1 Axes>"
      ]
     },
     "metadata": {},
     "output_type": "display_data"
    }
   ],
   "source": [
    "import matplotlib.pyplot as plt\n",
    "plt.imshow(sd_hf[\"wpe.weight\"].detach().numpy(), cmap='gray')"
   ]
  },
  {
   "cell_type": "code",
   "execution_count": 28,
   "metadata": {},
   "outputs": [
    {
     "data": {
      "text/plain": [
       "[<matplotlib.lines.Line2D at 0x165cf0500>]"
      ]
     },
     "execution_count": 28,
     "metadata": {},
     "output_type": "execute_result"
    },
    {
     "data": {
      "image/png": "[encoded data removed]",
      "text/plain": [
       "<Figure size 640x480 with 1 Axes>"
      ]
     },
     "metadata": {},
     "output_type": "display_data"
    }
   ],
   "source": [
    "plt.plot(sd_hf[\"wpe.weight\"][:, 250])\n",
    "plt.plot(sd_hf[\"wpe.weight\"][:, 200])\n",
    "plt.plot(sd_hf[\"wpe.weight\"][:, 150])\n",
    "\n",
    "#sinusoidal positional encodings"
   ]
  },
  {
   "cell_type": "code",
   "execution_count": 30,
   "metadata": {},
   "outputs": [
    {
     "name": "stderr",
     "output_type": "stream",
     "text": [
      "Device set to use mps:0\n",
      "Truncation was not explicitly activated but `max_length` is provided a specific value, please use `truncation=True` to explicitly truncate examples to max length. Defaulting to 'longest_first' truncation strategy. If you encode pairs of sequences (GLUE-style) with the tokenizer you can select this strategy more precisely by providing a specific strategy to `truncation`.\n",
      "Setting `pad_token_id` to `eos_token_id`:50256 for open-end generation.\n",
      "Both `max_new_tokens` (=256) and `max_length`(=30) seem to have been set. `max_new_tokens` will take precedence. Please refer to the documentation for more information. (https://huggingface.co/docs/transformers/main/en/main_classes/text_generation)\n"
     ]
    },
    {
     "data": {
      "text/plain": [
       "[{'generated_text': \"Hello, how are you? I'm sorry.\\n\\nThe world is a confusing place. You're not exactly sure what's wrong.\\n\\nThe world I've grown up in is a lot more interesting. You've made many friends, and you've been very effective in the world. But how are you?\\n\\nI wish I could answer that question better than you do, but I'm afraid I have no idea.\\n\\nYou're always the one who gets the most out of your life.\\n\\nIf you are to be successful, you have to know how to make it happen.\\n\\nSo, what's the best way to become successful? How do you help yourself to achieve that goal?\\n\\nI've been teaching this for years in the United States and many other countries around the world. And I think it's a really good idea.\\n\\nYou should be able to find someone who will help you.\\n\\nI'm a big believer in self-actualization, and I hope you'll be able to find someone who will help you to achieve your goals.\\n\\nYou know, I've heard a lot of people say that what you learn when you learn the right way is what you learn when you practice the right way.\\n\\nI believe that's\"},\n",
       " {'generated_text': \"Hello, how are you? I'm so sorry, but if you don't want to know, I'm sorry to hear it. I'm sorry for your loss. I'm sorry for your loss for this, for your loss for all of us here, for all of us here, for all of you here. I'm so sorry. I'm sorry for the loss for you. I'm sorry for the loss for you. I'm sorry for the loss for you. I'm sorry for the loss for you. I'm sorry for the loss for you. I'm sorry for the loss for you. I'm sorry for the loss for you. I'm sorry for the loss for you. I'm sorry for the loss for you. I'm sorry for the loss for you. I'm sorry for the loss for you. I'm sorry for the loss for you. I'm sorry for the loss for you. I'm sorry for the loss for you. I'm sorry for the loss for you. I'm sorry for the loss for you. I'm sorry for the loss for you. I'm sorry for the loss for you. I'm sorry for the loss for you. I'm sorry for the loss for you. I'm sorry for the loss for you. I'm sorry for\"},\n",
       " {'generated_text': 'Hello, how are you?\\n\\nThe first question you should ask yourself is: \"Why do I have to go without a backpack? It\\'s not a big deal at all.\" So, it turns out that the answer is most likely to be that you\\'re just not comfortable with being alone in a backpack.\\n\\nThe problem is that we are all very comfortable with our own body, and in the end we don\\'t want to carry stuff to the point where our body doesn\\'t want to carry more stuff, so we have to use some things.\\n\\nWhen we think \"why do I need to carry stuff?\" the first question is: \"What are these and how do they work? Why do I need to carry stuff?\"\\n\\nYou have to think of the first three things you should carry: a purse, a backpack, and a phone. We all have our own personal budgets, so you also have to think of the first three things you need to carry: a purse, a backpack, and a phone.\\n\\nIf it\\'s a small purse, then you should carry the phone, but if it\\'s a large purse and you\\'re not comfortable with carrying it out, then you don\\'t carry it.\\n\\nYou have to think of the last three things you need to'},\n",
       " {'generated_text': \"Hello, how are you?\\n\\nI'm pretty much just a regular guy. My mom is a pretty nice girl.\\n\\nI'm not sure how you feel about being in the same room again?\\n\\nI mean... I'm not really sure.\\n\\nIs that why you're here?\\n\\nSo... you're here to find a job and get some sleep.\\n\\nHey, are you okay?\\n\\nI wasn't really sure if you were okay yesterday.\\n\\nI'm sorry. I'm really sorry.\\n\\nI'm sorry. You're too cute.\\n\\nI'm sorry. You're too cute.\\n\\nOh... Oh... That's... That's my mom's name.\\n\\nI'm sorry.\\n\\nWell, I don't know what you're talking about.\\n\\nI don't know what you're talking about.\\n\\nSo... how are you?\\n\\nBecause... you're not okay.\\n\\nSo... you're not okay.\\n\\nWell... I'm not going to stop looking for you.\\n\\nI'm not going to stop looking for you.\\n\\nI'm not going to stop looking for you.\\n\\nI'm not going to stop looking for you.\\n\\nI'm not going\"},\n",
       " {'generated_text': 'Hello, how are you? Why did you come to this point?! Why are you here?! Are you a thief?! I\\'m not a thief… I\\'m a thief!\"\\n\\n\\n\"The last person who could have saved one was not you, but the last person who had the power to save the last one. The last person who could have saved everyone was you, but the last person who could have saved the last one was you. They are so close. They are so close. You have no idea how close you are. I\\'m sorry…\"\\n\\n\\n\"Oh, no. I\\'m sorry… oh, no, no… Oh, nothing like that… nothing like that…nothing like that… nothing like that…nothing like that…nothing like that…nothing like that…nothing like that…\"\\n\\n\\n\"It\\'s just that I can\\'t explain this. I\\'m not that person. Not that person. I\\'m not that person. I\\'m not that person. I\\'m not that person. I\\'m not that person. I\\'m not that person.\\n\\n\"I\\'m not that person. I\\'m not that person.\\n\\n\"You\\'re so weak, you\\'re so weak. That\\'s why I\\'m here. That\\'s why I\\'m here. That\\'s why I'}]"
      ]
     },
     "execution_count": 30,
     "metadata": {},
     "output_type": "execute_result"
    }
   ],
   "source": [
    "from transformers import pipeline, set_seed\n",
    "\n",
    "gen = pipeline(\"text-generation\", model=\"gpt2\")\n",
    "set_seed(42)\n",
    "gen(\"Hello, how are you?\", max_length=30, num_return_sequences=5)\n",
    "\n",
    "#comment: different outputs compared to Karpathy."
   ]
  },
  {
   "cell_type": "code",
   "execution_count": null,
   "metadata": {},
   "outputs": [
    {
     "name": "stdout",
     "output_type": "stream",
     "text": [
      "[5962, 22307, 25, 198, 8421, 356, 5120, 597, 2252, 11, 3285, 502, 2740, 13, 198, 198, 3237, 25, 198, 5248, 461, 11, 2740, 13]\n",
      "tensor([[ 5962, 22307,    25,   198,  8421,   356],\n",
      "        [ 5120,   597,  2252,    11,  3285,   502],\n",
      "        [ 2740,    13,   198,   198,  3237,    25],\n",
      "        [  198,  5248,   461,    11,  2740,    13]])\n",
      "tensor([[22307,    25,   198,  8421,   356,  5120],\n",
      "        [  597,  2252,    11,  3285,   502,  2740],\n",
      "        [   13,   198,   198,  3237,    25,   198],\n",
      "        [ 5248,   461,    11,  2740,    13,   198]])\n"
     ]
    }
   ],
   "source": [
    "#quote: addition distributes gradients equally during backprop to both of its branches equally.\n",
    "#for def forward() in train-gpt-2.py, the B, T are B independent sequences of T tokens where T is the max sequence length\n",
    "data = open('../data/input.txt', 'r').read() # should be simple plain text file\n",
    "\n",
    "import tiktoken\n",
    "enc = tiktoken.get_encoding(\"gpt2\")\n",
    "tokens = enc.encode(data)\n",
    "print(tokens[:24])\n",
    "\n",
    "\n",
    "#this stacks a sequence of 24 tokens into a 4x6 batch of tokens\n",
    "import torch\n",
    "buf = torch.tensor(tokens[:24 + 1])\n",
    "x = buf[:-1].view(4, 6) # 4 sequences of 6 tokens each\n",
    "y = buf[1:].view(4, 6) # 4 sequences of 6 tokens each\n",
    "print(x)\n",
    "print(y)\n",
    "\n",
    "\n",
    "#in this way we can create a 2d dimensional batch\n",
    "# where x is the input and y is the target\n",
    "# and the shape of x and y is (B, T) where B is the batch size and T is the sequence length"
   ]
  },
  {
   "cell_type": "code",
   "execution_count": 55,
   "metadata": {},
   "outputs": [
    {
     "name": "stdout",
     "output_type": "stream",
     "text": [
      "tensor(10.2925)\n",
      "tensor(1.0386)\n"
     ]
    }
   ],
   "source": [
    "# standard deviation grows inside the residual stream\n",
    "x  = torch.zeros(768)\n",
    "n = 100 # 100 layers\n",
    "for i in range(n):\n",
    "    x += torch.randn(768) # zero-mean, 1 std\n",
    "\n",
    "print(x.std())\n",
    "\n",
    "# this means the std of the sum of 100 random numbers is 10\n",
    "\n",
    "x_n  = torch.zeros(768)\n",
    "n = 100 # 100 layers\n",
    "for i in range(n):\n",
    "    x_n += n**-0.5 * torch.randn(768) # zero-mean, 1 std\n",
    "\n",
    "print(x_n.std())\n",
    "\n",
    "# order of, this number can vary a bit\n",
    "# the scaling factor in gpt-2 paper combats this growth"
   ]
  },
  {
   "cell_type": "code",
   "execution_count": null,
   "metadata": {},
   "outputs": [],
   "source": [
    "# with bfloat16 instead of float32 we can speed up training from\n",
    "# 19.5 TFLOPS to 312 TFLOPS, a 16x speedup.\n",
    "\n",
    "\n",
    "# 1:32:16: speedups come at cost; reduced precision.\n",
    "# Our accumalate input will be fp32, output will be fp32, but the weights will be TF32,\n",
    "# meaning the mantissa will be 10 bits instead of 23 bits.\n",
    "\n",
    "\n",
    "# why tf32?\n",
    "# Its a sweet spot.\n"
   ]
  },
  {
   "cell_type": "code",
   "execution_count": 5,
   "metadata": {},
   "outputs": [],
   "source": [
    "# we ar going to use BF16\n",
    "\n",
    "#exponent sets the ragne\n",
    "#for BF16 (Big Float 16) the range is the same as FP32 while the precision is much smaller\n",
    "\n",
    "# initially, everyone used FP16 with Volta architecture\n",
    "# But you had to use gradient scaling operations to prevent underflow\n",
    "\n",
    "# Then Ampier series introduced BF16 training to adress this.\n",
    "\n",
    "# we will use the pytorch .autocast operation and only surround the model step and the loss step.\n",
    "\n",
    "# its called mixed precision training because some parts of the network, the logits are converted while others remain .dtype float32\n",
    "\n",
    "#https://docs.pytorch.org/tutorials/intermediate/torch_compile_tutorial.html"
   ]
  },
  {
   "cell_type": "code",
   "execution_count": null,
   "metadata": {},
   "outputs": [],
   "source": [
    "# Flash Attention\n",
    "\n",
    "\n"
   ]
  }
 ],
 "metadata": {
  "kernelspec": {
   "display_name": ".venv",
   "language": "python",
   "name": "python3"
  },
  "language_info": {
   "codemirror_mode": {
    "name": "ipython",
    "version": 3
   },
   "file_extension": ".py",
   "mimetype": "text/x-python",
   "name": "python",
   "nbconvert_exporter": "python",
   "pygments_lexer": "ipython3",
   "version": "3.12.8"
  }
 },
 "nbformat": 4,
 "nbformat_minor": 2
}
